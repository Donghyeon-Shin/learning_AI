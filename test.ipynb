{
 "cells": [
  {
   "cell_type": "code",
   "execution_count": 1,
   "id": "aa517dd9",
   "metadata": {},
   "outputs": [
    {
     "name": "stdout",
     "output_type": "stream",
     "text": [
      "tensor([[-1.6309,  0.4504,  1.1036],\n",
      "        [-1.2370, -0.9698,  0.7167],\n",
      "        [-1.5817,  1.2794,  0.0787],\n",
      "        [-0.2842,  0.0308,  0.0188],\n",
      "        [-0.9759, -0.4473,  0.2031]])\n"
     ]
    }
   ],
   "source": [
    "import torch\n",
    "x = torch.randn(5, 3)\n",
    "print(x)\n"
   ]
  }
 ],
 "metadata": {
  "kernelspec": {
   "display_name": "env",
   "language": "python",
   "name": "python3"
  },
  "language_info": {
   "codemirror_mode": {
    "name": "ipython",
    "version": 3
   },
   "file_extension": ".py",
   "mimetype": "text/x-python",
   "name": "python",
   "nbconvert_exporter": "python",
   "pygments_lexer": "ipython3",
   "version": "3.13.1"
  }
 },
 "nbformat": 4,
 "nbformat_minor": 5
}
